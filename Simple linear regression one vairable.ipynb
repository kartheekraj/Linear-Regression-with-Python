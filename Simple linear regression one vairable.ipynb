{
 "cells": [
  {
   "cell_type": "markdown",
   "metadata": {},
   "source": [
    "## Problem Statement:\n",
    "### Let us assume that you are a small restaurant owner or a very business minded server / waiter at a nice restaurant. as \"tips\" are very important par fo a waiter's pay. Most of the time the dollar amount of the tip is related to the dollar amount of the total bill.\n",
    "\n",
    "#### As the waiter or owner, you would like to develop a modle that will allow you to make a prediction about what amount of tip to expect for any given bill amount. Therefore we collect data for six meals."
   ]
  },
  {
   "cell_type": "code",
   "execution_count": 3,
   "metadata": {},
   "outputs": [],
   "source": [
    "#importing libraries\n",
    "import pandas as pd\n",
    "import numpy as np\n",
    "import matplotlib.pyplot as plt "
   ]
  },
  {
   "cell_type": "code",
   "execution_count": 4,
   "metadata": {},
   "outputs": [],
   "source": [
    "# Unfortunatly we only collect data for the tip ammount\n",
    "Meal_data = {'Meal':['1','2','3','4','5','6'],'Tip':[5,17,11,8,14,5]}"
   ]
  },
  {
   "cell_type": "code",
   "execution_count": 5,
   "metadata": {},
   "outputs": [],
   "source": [
    "#Converting the above into a data frame \n",
    "Meal_df = pd.DataFrame(Meal_data, columns = ['Meal','Tip'])"
   ]
  },
  {
   "cell_type": "code",
   "execution_count": 6,
   "metadata": {},
   "outputs": [
    {
     "name": "stdout",
     "output_type": "stream",
     "text": [
      "  Meal  Tip\n",
      "0    1    5\n",
      "1    2   17\n",
      "2    3   11\n",
      "3    4    8\n",
      "4    5   14\n",
      "5    6    5\n"
     ]
    }
   ],
   "source": [
    "print(Meal_df)"
   ]
  },
  {
   "cell_type": "code",
   "execution_count": 7,
   "metadata": {},
   "outputs": [
    {
     "data": {
      "image/png": "[encoded data removed]",
      "text/plain": [
       "<Figure size 432x288 with 1 Axes>"
      ]
     },
     "metadata": {
      "needs_background": "light"
     },
     "output_type": "display_data"
    }
   ],
   "source": [
    "plt.style.use('tableau-colorblind10')\n",
    "plt.plot(Meal_df.Meal,Meal_df.Tip)\n",
    "plt.title('Meal vs Tip graph')\n",
    "plt.xlabel('Meal number')\n",
    "plt.ylabel('Tip given($)')\n",
    "plt.grid(True)"
   ]
  },
  {
   "cell_type": "code",
   "execution_count": 8,
   "metadata": {},
   "outputs": [
    {
     "data": {
      "text/plain": [
       "10.0"
      ]
     },
     "execution_count": 8,
     "metadata": {},
     "output_type": "execute_result"
    }
   ],
   "source": [
    "#To find the best line of fit we would first use the mean of the tips\n",
    "np.mean(Meal_df.Tip)"
   ]
  },
  {
   "cell_type": "code",
   "execution_count": 9,
   "metadata": {},
   "outputs": [
    {
     "data": {
      "image/png": "[encoded data removed]",
      "text/plain": [
       "<Figure size 432x288 with 1 Axes>"
      ]
     },
     "metadata": {
      "needs_background": "light"
     },
     "output_type": "display_data"
    }
   ],
   "source": [
    "plt.style.use('tableau-colorblind10')\n",
    "plt.scatter(Meal_df.Meal,Meal_df.Tip)\n",
    "plt.axhline(y=np.mean(Meal_df.Tip),color ='r',linestyle = '--') # Ploting at mean with a red dashed line\n",
    "plt.title('Meal vs Tip graph')\n",
    "plt.xlabel('Meal number')\n",
    "plt.ylabel('Tip given($)')\n",
    "plt.grid(True)"
   ]
  },
  {
   "cell_type": "markdown",
   "metadata": {},
   "source": [
    "#### from the above we can see that the line of best fit does not pass throuhg any of the points\n",
    "we would now caluclate the residuals of the value from the mean"
   ]
  },
  {
   "cell_type": "code",
   "execution_count": 12,
   "metadata": {},
   "outputs": [],
   "source": [
    "#inserting a new coulumn in the existing dataframe\n",
    "Residual = np.mean(Meal_df.Tip)-Meal_df.Tip"
   ]
  },
  {
   "cell_type": "code",
   "execution_count": 13,
   "metadata": {},
   "outputs": [
    {
     "name": "stdout",
     "output_type": "stream",
     "text": [
      "0    5.0\n",
      "1   -7.0\n",
      "2   -1.0\n",
      "3    2.0\n",
      "4   -4.0\n",
      "5    5.0\n",
      "Name: Tip, dtype: float64\n"
     ]
    }
   ],
   "source": [
    "print(Residual)"
   ]
  },
  {
   "cell_type": "code",
   "execution_count": 17,
   "metadata": {},
   "outputs": [],
   "source": [
    "#inserting the above column in the existing data frame (Meal_df)\n",
    "Meal_df['Residual']=Residual"
   ]
  },
  {
   "cell_type": "code",
   "execution_count": 19,
   "metadata": {},
   "outputs": [
    {
     "name": "stdout",
     "output_type": "stream",
     "text": [
      "  Meal  Tip  Residual\n",
      "0    1    5       5.0\n",
      "1    2   17      -7.0\n",
      "2    3   11      -1.0\n",
      "3    4    8       2.0\n",
      "4    5   14      -4.0\n",
      "5    6    5       5.0\n"
     ]
    }
   ],
   "source": [
    "#Viewing the changes of new column in the existing dataframe\n",
    "print(Meal_df)"
   ]
  },
  {
   "cell_type": "markdown",
   "metadata": {},
   "source": [
    "#### Similarly we insert the square of the residual vlaues in the data frame"
   ]
  },
  {
   "cell_type": "code",
   "execution_count": 25,
   "metadata": {},
   "outputs": [],
   "source": [
    "Meal_df['Residual_2']=Residual**2"
   ]
  },
  {
   "cell_type": "code",
   "execution_count": 26,
   "metadata": {},
   "outputs": [
    {
     "data": {
      "text/html": [
       "<div>\n",
       "<style scoped>\n",
       "    .dataframe tbody tr th:only-of-type {\n",
       "        vertical-align: middle;\n",
       "    }\n",
       "\n",
       "    .dataframe tbody tr th {\n",
       "        vertical-align: top;\n",
       "    }\n",
       "\n",
       "    .dataframe thead th {\n",
       "        text-align: right;\n",
       "    }\n",
       "</style>\n",
       "<table border=\"1\" class=\"dataframe\">\n",
       "  <thead>\n",
       "    <tr style=\"text-align: right;\">\n",
       "      <th></th>\n",
       "      <th>Meal</th>\n",
       "      <th>Tip</th>\n",
       "      <th>Residual</th>\n",
       "      <th>Residual_2</th>\n",
       "    </tr>\n",
       "  </thead>\n",
       "  <tbody>\n",
       "    <tr>\n",
       "      <td>0</td>\n",
       "      <td>1</td>\n",
       "      <td>5</td>\n",
       "      <td>5.0</td>\n",
       "      <td>25.0</td>\n",
       "    </tr>\n",
       "    <tr>\n",
       "      <td>1</td>\n",
       "      <td>2</td>\n",
       "      <td>17</td>\n",
       "      <td>-7.0</td>\n",
       "      <td>49.0</td>\n",
       "    </tr>\n",
       "    <tr>\n",
       "      <td>2</td>\n",
       "      <td>3</td>\n",
       "      <td>11</td>\n",
       "      <td>-1.0</td>\n",
       "      <td>1.0</td>\n",
       "    </tr>\n",
       "    <tr>\n",
       "      <td>3</td>\n",
       "      <td>4</td>\n",
       "      <td>8</td>\n",
       "      <td>2.0</td>\n",
       "      <td>4.0</td>\n",
       "    </tr>\n",
       "    <tr>\n",
       "      <td>4</td>\n",
       "      <td>5</td>\n",
       "      <td>14</td>\n",
       "      <td>-4.0</td>\n",
       "      <td>16.0</td>\n",
       "    </tr>\n",
       "    <tr>\n",
       "      <td>5</td>\n",
       "      <td>6</td>\n",
       "      <td>5</td>\n",
       "      <td>5.0</td>\n",
       "      <td>25.0</td>\n",
       "    </tr>\n",
       "  </tbody>\n",
       "</table>\n",
       "</div>"
      ],
      "text/plain": [
       "  Meal  Tip  Residual  Residual_2\n",
       "0    1    5       5.0        25.0\n",
       "1    2   17      -7.0        49.0\n",
       "2    3   11      -1.0         1.0\n",
       "3    4    8       2.0         4.0\n",
       "4    5   14      -4.0        16.0\n",
       "5    6    5       5.0        25.0"
      ]
     },
     "execution_count": 26,
     "metadata": {},
     "output_type": "execute_result"
    }
   ],
   "source": [
    "#Viewing the changes of after adding residual square\n",
    "Meal_df"
   ]
  },
  {
   "cell_type": "code",
   "execution_count": 29,
   "metadata": {},
   "outputs": [],
   "source": [
    "#We will now find the sum of squared residuals or (SSE) and assigne it to SSE\n",
    "SSE = sum(Meal_df.Residual_2)"
   ]
  },
  {
   "cell_type": "code",
   "execution_count": 30,
   "metadata": {},
   "outputs": [
    {
     "data": {
      "text/plain": [
       "120.0"
      ]
     },
     "execution_count": 30,
     "metadata": {},
     "output_type": "execute_result"
    }
   ],
   "source": [
    "#lets look at the value of SSE\n",
    "SSE"
   ]
  },
  {
   "cell_type": "markdown",
   "metadata": {},
   "source": [
    "#### The goal of simple linear regression is to create a linear modle that minimizes the sum of square of the residual/ error (SSE)\n",
    "\n",
    "If our regresssion modle is significant, it will \"eat up\" much of the raw SSE we had wehn we assumed that the independent variable did not even exist. The regression line will/ should literally \"fit\" the data better. It will minimize the residuals."
   ]
  }
 ],
 "metadata": {
  "kernelspec": {
   "display_name": "Python 3",
   "language": "python",
   "name": "python3"
  },
  "language_info": {
   "codemirror_mode": {
    "name": "ipython",
    "version": 3
   },
   "file_extension": ".py",
   "mimetype": "text/x-python",
   "name": "python",
   "nbconvert_exporter": "python",
   "pygments_lexer": "ipython3",
   "version": "3.7.4"
  }
 },
 "nbformat": 4,
 "nbformat_minor": 2
}
