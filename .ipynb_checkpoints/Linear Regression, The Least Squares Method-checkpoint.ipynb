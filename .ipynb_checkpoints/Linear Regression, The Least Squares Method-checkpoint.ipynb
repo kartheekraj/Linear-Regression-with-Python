{
 "cells": [
  {
   "cell_type": "markdown",
   "metadata": {},
   "source": [
    "#### Simple linear regression is a part of statistics called bivariate statistics which means 2 variables \n",
    "Linear regression is a crsoss between correlationa and anova\n",
    "\n",
    "From the last problem in simple linear regression we only considered the tip ammount in this we would consider both bill data and tip data"
   ]
  },
  {
   "cell_type": "code",
   "execution_count": 1,
   "metadata": {},
   "outputs": [],
   "source": [
    "#importing libraries\n",
    "import pandas as pd\n",
    "import numpy as np\n",
    "import matplotlib.pyplot as plt "
   ]
  },
  {
   "cell_type": "code",
   "execution_count": 2,
   "metadata": {},
   "outputs": [],
   "source": [
    "# Tip and meal data are as follows\n",
    "Meal_data = {'Meal':[34,108,64,88,99,51],'Tip':[5,17,11,8,14,5]}\n",
    "#Converting into a data frame\n",
    "Meal_df = pd.DataFrame(Meal_data, columns = ['Meal','Tip'])"
   ]
  },
  {
   "cell_type": "code",
   "execution_count": 3,
   "metadata": {},
   "outputs": [
    {
     "data": {
      "image/png": "[encoded data removed]",
      "text/plain": [
       "<Figure size 432x288 with 1 Axes>"
      ]
     },
     "metadata": {
      "needs_background": "light"
     },
     "output_type": "display_data"
    }
   ],
   "source": [
    "# The scatter plot for meal vs tip price is as follows:\n",
    "plt.style.use('tableau-colorblind10')\n",
    "plt.scatter(Meal_df.Meal,Meal_df.Tip)\n",
    "plt.title('Meal vs Tip graph')\n",
    "plt.xlabel('Meal price')\n",
    "plt.ylabel('Tip given($)')\n",
    "plt.grid(True)"
   ]
  },
  {
   "cell_type": "markdown",
   "metadata": {},
   "source": [
    "##### Now we want to know to waht degree the tip amount can be predicted by the bill amount. so the tip is the DEPENDENT variable and the bill is the INDEPENDENT variable."
   ]
  },
  {
   "cell_type": "markdown",
   "metadata": {},
   "source": [
    "*The goal is to minimize the sum of the squared differences between the observed value for the dependent variable (yi) and the estimated/ predicted value of the dependent variable (yCAPi) that is provided by the regression line. Sum of the squared residuals. The sum of squared residuals should be much smaller than when we just used the dependent variable alone; b1 = 0 , yCAP = 10 for all values of x . That sum of squared residuals was 120*"
   ]
  },
  {
   "cell_type": "markdown",
   "metadata": {},
   "source": [
    "#### We would now find the correlation coefficient of the above data"
   ]
  },
  {
   "cell_type": "code",
   "execution_count": 4,
   "metadata": {},
   "outputs": [],
   "source": [
    "r = np.corrcoef(Meal_df.Meal,Meal_df.Tip)"
   ]
  },
  {
   "cell_type": "code",
   "execution_count": 5,
   "metadata": {},
   "outputs": [
    {
     "name": "stdout",
     "output_type": "stream",
     "text": [
      "[[1.       0.865665]\n",
      " [0.865665 1.      ]]\n"
     ]
    }
   ],
   "source": [
    "#check the value of r\n",
    "print(r)"
   ]
  },
  {
   "cell_type": "code",
   "execution_count": 6,
   "metadata": {},
   "outputs": [],
   "source": [
    "# We would now find the centroid meal data and consider that at x\n",
    "x = np.mean(Meal_df.Meal)"
   ]
  },
  {
   "cell_type": "code",
   "execution_count": 7,
   "metadata": {},
   "outputs": [],
   "source": [
    "#Similarly for tip data we would consider the mean as y\n",
    "y = np.mean(Meal_df.Tip)"
   ]
  },
  {
   "cell_type": "code",
   "execution_count": 8,
   "metadata": {},
   "outputs": [
    {
     "name": "stdout",
     "output_type": "stream",
     "text": [
      "74.0 10.0\n"
     ]
    }
   ],
   "source": [
    "#The values of x, y are as follows\n",
    "print(x,y)"
   ]
  },
  {
   "cell_type": "markdown",
   "metadata": {},
   "source": [
    "#### The above two values of x and y are coordinates for the centroid , because the line of best fit passes through it"
   ]
  },
  {
   "cell_type": "code",
   "execution_count": 9,
   "metadata": {},
   "outputs": [
    {
     "name": "stdout",
     "output_type": "stream",
     "text": [
      "   Meal  Tip\n",
      "0    34    5\n",
      "1   108   17\n",
      "2    64   11\n",
      "3    88    8\n",
      "4    99   14\n",
      "5    51    5\n"
     ]
    }
   ],
   "source": [
    "#let us look at our data again.\n",
    "print(Meal_df)"
   ]
  },
  {
   "cell_type": "code",
   "execution_count": 10,
   "metadata": {},
   "outputs": [
    {
     "data": {
      "text/html": [
       "<div>\n",
       "<style scoped>\n",
       "    .dataframe tbody tr th:only-of-type {\n",
       "        vertical-align: middle;\n",
       "    }\n",
       "\n",
       "    .dataframe tbody tr th {\n",
       "        vertical-align: top;\n",
       "    }\n",
       "\n",
       "    .dataframe thead th {\n",
       "        text-align: right;\n",
       "    }\n",
       "</style>\n",
       "<table border=\"1\" class=\"dataframe\">\n",
       "  <thead>\n",
       "    <tr style=\"text-align: right;\">\n",
       "      <th></th>\n",
       "      <th>Bill</th>\n",
       "      <th>Tip</th>\n",
       "    </tr>\n",
       "  </thead>\n",
       "  <tbody>\n",
       "    <tr>\n",
       "      <td>0</td>\n",
       "      <td>34</td>\n",
       "      <td>5</td>\n",
       "    </tr>\n",
       "    <tr>\n",
       "      <td>1</td>\n",
       "      <td>108</td>\n",
       "      <td>17</td>\n",
       "    </tr>\n",
       "    <tr>\n",
       "      <td>2</td>\n",
       "      <td>64</td>\n",
       "      <td>11</td>\n",
       "    </tr>\n",
       "    <tr>\n",
       "      <td>3</td>\n",
       "      <td>88</td>\n",
       "      <td>8</td>\n",
       "    </tr>\n",
       "    <tr>\n",
       "      <td>4</td>\n",
       "      <td>99</td>\n",
       "      <td>14</td>\n",
       "    </tr>\n",
       "    <tr>\n",
       "      <td>5</td>\n",
       "      <td>51</td>\n",
       "      <td>5</td>\n",
       "    </tr>\n",
       "  </tbody>\n",
       "</table>\n",
       "</div>"
      ],
      "text/plain": [
       "   Bill  Tip\n",
       "0    34    5\n",
       "1   108   17\n",
       "2    64   11\n",
       "3    88    8\n",
       "4    99   14\n",
       "5    51    5"
      ]
     },
     "execution_count": 10,
     "metadata": {},
     "output_type": "execute_result"
    }
   ],
   "source": [
    "Meal_df.rename(columns={\"Meal\":\"Bill\"})"
   ]
  },
  {
   "cell_type": "code",
   "execution_count": 11,
   "metadata": {},
   "outputs": [
    {
     "name": "stdout",
     "output_type": "stream",
     "text": [
      "   Meal  Tip\n",
      "0    34    5\n",
      "1   108   17\n",
      "2    64   11\n",
      "3    88    8\n",
      "4    99   14\n",
      "5    51    5\n"
     ]
    }
   ],
   "source": [
    "print(Meal_df)"
   ]
  },
  {
   "cell_type": "code",
   "execution_count": 12,
   "metadata": {},
   "outputs": [
    {
     "name": "stdout",
     "output_type": "stream",
     "text": [
      "   Meal  Tip  Bill_deviation  Tip_deviation\n",
      "0    34    5            40.0            5.0\n",
      "1   108   17           -34.0           -7.0\n",
      "2    64   11            10.0           -1.0\n",
      "3    88    8           -14.0            2.0\n",
      "4    99   14           -25.0           -4.0\n",
      "5    51    5            23.0            5.0\n"
     ]
    }
   ],
   "source": [
    "# adding bill deviationa dn tip deviation by subtracting the mean of bill and tip with each variable\n",
    "Bill_dev = np.mean(Meal_df.Meal)-Meal_df.Meal\n",
    "Tip_dev = np.mean(Meal_df.Tip)-Meal_df.Tip\n",
    "Meal_df['Bill_deviation']= Bill_dev\n",
    "Meal_df['Tip_deviation']= Tip_dev\n",
    "print(Meal_df)"
   ]
  },
  {
   "cell_type": "code",
   "execution_count": 14,
   "metadata": {},
   "outputs": [
    {
     "name": "stdout",
     "output_type": "stream",
     "text": [
      "   Meal  Tip  Bill_deviation  Tip_deviation  Bill_deviation^2\n",
      "0    34    5            40.0            5.0            1600.0\n",
      "1   108   17           -34.0           -7.0            1156.0\n",
      "2    64   11            10.0           -1.0             100.0\n",
      "3    88    8           -14.0            2.0             196.0\n",
      "4    99   14           -25.0           -4.0             625.0\n",
      "5    51    5            23.0            5.0             529.0\n"
     ]
    }
   ],
   "source": [
    "# we would now add the product of deviation and the square of the product of the deviation\n",
    "Bill_dev_2 = Meal_df.Bill_deviation **2\n",
    "Meal_df['Bill_deviation^2']= Bill_dev_2\n",
    "print(Meal_df)"
   ]
  },
  {
   "cell_type": "markdown",
   "metadata": {},
   "source": [
    "#### We would now caluculate the slope of the regression line\n",
    "b1 = (sum(xi-xbar) * sum(yi-ybar))/sum(xi-xbar)**2)\n",
    "\n",
    "Here Bill_deviation would be (xi-xbar) and Tip_deviation would be (yi-ybar) "
   ]
  },
  {
   "cell_type": "code",
   "execution_count": 21,
   "metadata": {},
   "outputs": [
    {
     "name": "stdout",
     "output_type": "stream",
     "text": [
      "615.0\n"
     ]
    }
   ],
   "source": [
    "# Hence sigma bill deviation and tip deviation would be\n",
    "Dev_prod = np.sum(Meal_df.Tip * Meal_df.Bill_deviation)*-1\n",
    "print(Dev_prod)"
   ]
  },
  {
   "cell_type": "code",
   "execution_count": 24,
   "metadata": {},
   "outputs": [
    {
     "data": {
      "text/plain": [
       "4206.0"
      ]
     },
     "execution_count": 24,
     "metadata": {},
     "output_type": "execute_result"
    }
   ],
   "source": [
    "# Sum of bill deviation\n",
    "Sigma_Bill_dev_2=np.sum(Bill_dev_2)\n",
    "Sigma_Bill_dev_2"
   ]
  },
  {
   "cell_type": "code",
   "execution_count": 25,
   "metadata": {},
   "outputs": [
    {
     "data": {
      "text/plain": [
       "0.14621968616262482"
      ]
     },
     "execution_count": 25,
     "metadata": {},
     "output_type": "execute_result"
    }
   ],
   "source": [
    "# Calculating the value of b1 and printing it\n",
    "b1 = Dev_prod/Sigma_Bill_dev_2\n",
    "b1"
   ]
  },
  {
   "cell_type": "markdown",
   "metadata": {},
   "source": [
    "Compairing the value of $b_{1}$ with the equation $b_{0} = \\bar{y} - b_{1}\\bar{x}$ we get\n",
    "$b_{1} = 0.14621968616262482$"
   ]
  },
  {
   "cell_type": "markdown",
   "metadata": {},
   "source": [
    "#### Therefore \n",
    "$b_{0} = 10 - 0.1462(74)$\n"
   ]
  },
  {
   "cell_type": "code",
   "execution_count": 31,
   "metadata": {},
   "outputs": [
    {
     "data": {
      "text/plain": [
       "-0.8202567760342365"
      ]
     },
     "execution_count": 31,
     "metadata": {},
     "output_type": "execute_result"
    }
   ],
   "source": [
    "# Which would be calculated as\n",
    "b0 = np.mean(Meal_df.Tip)-(b1*np.mean(Meal_df.Meal))\n",
    "b0"
   ]
  },
  {
   "cell_type": "markdown",
   "metadata": {},
   "source": [
    "There for in the equation $ \\hat{y}_{i} = b_{0} + b_{1}x_{i} $\n",
    "We have\n",
    "$ b_{0} = -0.82025 $\n",
    "$ b_{1} = 0.146219 $\n",
    "\n",
    "Which means\n",
    "$ \\hat{y}_{i} = -0.82025 + 0.146219x $\n",
    "or\n",
    "$ \\hat{y}_{i} =  0.146219x - 0.82025 $"
   ]
  },
  {
   "cell_type": "markdown",
   "metadata": {},
   "source": [
    "We would now plot y = 0.1462x - 0.8203 with each value of y for x"
   ]
  },
  {
   "cell_type": "code",
   "execution_count": 49,
   "metadata": {},
   "outputs": [
    {
     "name": "stdout",
     "output_type": "stream",
     "text": [
      "0.8202567760342365\n",
      "0.9664764621968613\n",
      "1.1126961483594862\n"
     ]
    }
   ],
   "source": [
    "for i in range(0,3):\n",
    "    print(b1*i - b0)"
   ]
  },
  {
   "cell_type": "code",
   "execution_count": null,
   "metadata": {},
   "outputs": [],
   "source": [
    "# Search on how to store a for loop result into a dataframe"
   ]
  }
 ],
 "metadata": {
  "kernelspec": {
   "display_name": "Python 3",
   "language": "python",
   "name": "python3"
  },
  "language_info": {
   "codemirror_mode": {
    "name": "ipython",
    "version": 3
   },
   "file_extension": ".py",
   "mimetype": "text/x-python",
   "name": "python",
   "nbconvert_exporter": "python",
   "pygments_lexer": "ipython3",
   "version": "3.7.4"
  }
 },
 "nbformat": 4,
 "nbformat_minor": 2
}
