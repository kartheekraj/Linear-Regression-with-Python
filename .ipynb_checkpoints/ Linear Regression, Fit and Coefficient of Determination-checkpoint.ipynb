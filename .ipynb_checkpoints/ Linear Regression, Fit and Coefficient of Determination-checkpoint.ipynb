{
 "cells": [
  {
   "cell_type": "code",
   "execution_count": 1,
   "metadata": {},
   "outputs": [],
   "source": [
    "#importing libraries\n",
    "import pandas as pd\n",
    "import numpy as np\n",
    "import matplotlib.pyplot as plt\n",
    "import matplotlib.patches as mpatches\n",
    "\n",
    "# Tip and meal data are as follows\n",
    "Meal_data = {'Meal':[34,108,64,88,99,51],'Tip':[5,17,11,8,14,5]}\n",
    "#Converting into a data frame\n",
    "Meal_df = pd.DataFrame(Meal_data, columns = ['Meal','Tip'])"
   ]
  },
  {
   "cell_type": "code",
   "execution_count": 2,
   "metadata": {},
   "outputs": [
    {
     "data": {
      "text/html": [
       "<div>\n",
       "<style scoped>\n",
       "    .dataframe tbody tr th:only-of-type {\n",
       "        vertical-align: middle;\n",
       "    }\n",
       "\n",
       "    .dataframe tbody tr th {\n",
       "        vertical-align: top;\n",
       "    }\n",
       "\n",
       "    .dataframe thead th {\n",
       "        text-align: right;\n",
       "    }\n",
       "</style>\n",
       "<table border=\"1\" class=\"dataframe\">\n",
       "  <thead>\n",
       "    <tr style=\"text-align: right;\">\n",
       "      <th></th>\n",
       "      <th>Meal</th>\n",
       "      <th>Tip</th>\n",
       "    </tr>\n",
       "  </thead>\n",
       "  <tbody>\n",
       "    <tr>\n",
       "      <td>0</td>\n",
       "      <td>34</td>\n",
       "      <td>5</td>\n",
       "    </tr>\n",
       "    <tr>\n",
       "      <td>1</td>\n",
       "      <td>108</td>\n",
       "      <td>17</td>\n",
       "    </tr>\n",
       "    <tr>\n",
       "      <td>2</td>\n",
       "      <td>64</td>\n",
       "      <td>11</td>\n",
       "    </tr>\n",
       "    <tr>\n",
       "      <td>3</td>\n",
       "      <td>88</td>\n",
       "      <td>8</td>\n",
       "    </tr>\n",
       "    <tr>\n",
       "      <td>4</td>\n",
       "      <td>99</td>\n",
       "      <td>14</td>\n",
       "    </tr>\n",
       "    <tr>\n",
       "      <td>5</td>\n",
       "      <td>51</td>\n",
       "      <td>5</td>\n",
       "    </tr>\n",
       "  </tbody>\n",
       "</table>\n",
       "</div>"
      ],
      "text/plain": [
       "   Meal  Tip\n",
       "0    34    5\n",
       "1   108   17\n",
       "2    64   11\n",
       "3    88    8\n",
       "4    99   14\n",
       "5    51    5"
      ]
     },
     "execution_count": 2,
     "metadata": {},
     "output_type": "execute_result"
    }
   ],
   "source": [
    "Meal_df"
   ]
  },
  {
   "cell_type": "markdown",
   "metadata": {},
   "source": [
    " We know that $ \\hat{y} = 0.1462x - 0.8188 $ where $ b_{1} = 0.1462 $ and $b_{0} = 0.8188$"
   ]
  },
  {
   "cell_type": "markdown",
   "metadata": {},
   "source": [
    "Consider the Meal column as $x$ and Tip column as $y$ , we would now substitute the value of x in above equation and create a new column ycap"
   ]
  },
  {
   "cell_type": "code",
   "execution_count": 3,
   "metadata": {},
   "outputs": [
    {
     "name": "stdout",
     "output_type": "stream",
     "text": [
      "0     4.1520\n",
      "1    14.9708\n",
      "2     8.5380\n",
      "3    12.0468\n",
      "4    13.6550\n",
      "5     6.6374\n",
      "Name: Meal, dtype: float64\n"
     ]
    }
   ],
   "source": [
    "# Adding ycap\n",
    "ycap = (0.1462*Meal_df.Meal)-0.8188\n",
    "print(ycap)"
   ]
  },
  {
   "cell_type": "markdown",
   "metadata": {},
   "source": [
    "We would now add the above in the dataframe"
   ]
  },
  {
   "cell_type": "code",
   "execution_count": 4,
   "metadata": {},
   "outputs": [
    {
     "data": {
      "text/html": [
       "<div>\n",
       "<style scoped>\n",
       "    .dataframe tbody tr th:only-of-type {\n",
       "        vertical-align: middle;\n",
       "    }\n",
       "\n",
       "    .dataframe tbody tr th {\n",
       "        vertical-align: top;\n",
       "    }\n",
       "\n",
       "    .dataframe thead th {\n",
       "        text-align: right;\n",
       "    }\n",
       "</style>\n",
       "<table border=\"1\" class=\"dataframe\">\n",
       "  <thead>\n",
       "    <tr style=\"text-align: right;\">\n",
       "      <th></th>\n",
       "      <th>Meal</th>\n",
       "      <th>Tip</th>\n",
       "      <th>ycap</th>\n",
       "    </tr>\n",
       "  </thead>\n",
       "  <tbody>\n",
       "    <tr>\n",
       "      <td>0</td>\n",
       "      <td>34</td>\n",
       "      <td>5</td>\n",
       "      <td>4.1520</td>\n",
       "    </tr>\n",
       "    <tr>\n",
       "      <td>1</td>\n",
       "      <td>108</td>\n",
       "      <td>17</td>\n",
       "      <td>14.9708</td>\n",
       "    </tr>\n",
       "    <tr>\n",
       "      <td>2</td>\n",
       "      <td>64</td>\n",
       "      <td>11</td>\n",
       "      <td>8.5380</td>\n",
       "    </tr>\n",
       "    <tr>\n",
       "      <td>3</td>\n",
       "      <td>88</td>\n",
       "      <td>8</td>\n",
       "      <td>12.0468</td>\n",
       "    </tr>\n",
       "    <tr>\n",
       "      <td>4</td>\n",
       "      <td>99</td>\n",
       "      <td>14</td>\n",
       "      <td>13.6550</td>\n",
       "    </tr>\n",
       "    <tr>\n",
       "      <td>5</td>\n",
       "      <td>51</td>\n",
       "      <td>5</td>\n",
       "      <td>6.6374</td>\n",
       "    </tr>\n",
       "  </tbody>\n",
       "</table>\n",
       "</div>"
      ],
      "text/plain": [
       "   Meal  Tip     ycap\n",
       "0    34    5   4.1520\n",
       "1   108   17  14.9708\n",
       "2    64   11   8.5380\n",
       "3    88    8  12.0468\n",
       "4    99   14  13.6550\n",
       "5    51    5   6.6374"
      ]
     },
     "execution_count": 4,
     "metadata": {},
     "output_type": "execute_result"
    }
   ],
   "source": [
    "# Adding it to the existing dataframe \n",
    "Meal_df['ycap']= ycap\n",
    "Meal_df"
   ]
  },
  {
   "cell_type": "markdown",
   "metadata": {},
   "source": [
    "ycap is our predicted tip amount "
   ]
  },
  {
   "cell_type": "code",
   "execution_count": 5,
   "metadata": {},
   "outputs": [
    {
     "data": {
      "image/png": "[encoded data removed]",
      "text/plain": [
       "<Figure size 432x288 with 1 Axes>"
      ]
     },
     "metadata": {
      "needs_background": "light"
     },
     "output_type": "display_data"
    }
   ],
   "source": [
    "# We would now plot both the values on a scatter plot to see where the value lie on the graph\n",
    "plt.scatter(Meal_df.Meal,Meal_df.Tip,color = \"red\",label = \"Actual Tip\")\n",
    "plt.scatter(Meal_df.Meal,Meal_df.ycap,color = \"Green\",label='Pridicted Tip')\n",
    "plt.title('Meal vs Tip')\n",
    "plt.xlabel('Meal price')\n",
    "plt.legend()\n",
    "plt.ylabel('Tip given($)')\n",
    "plt.grid(True)"
   ]
  },
  {
   "cell_type": "markdown",
   "metadata": {},
   "source": [
    "We would now calculate the difference in sum of the Actual Tip amount and Pridicted Tip amount"
   ]
  },
  {
   "cell_type": "code",
   "execution_count": 10,
   "metadata": {},
   "outputs": [],
   "source": [
    "# Sum of the tip amount \n",
    "SSE1 = Meal_df.Tip\n",
    "SSE2 = Meal_df.ycap\n",
    "SSE = SSE1-SSE2"
   ]
  },
  {
   "cell_type": "code",
   "execution_count": 13,
   "metadata": {},
   "outputs": [
    {
     "data": {
      "text/plain": [
       "0    0.8480\n",
       "1    2.0292\n",
       "2    2.4620\n",
       "3   -4.0468\n",
       "4    0.3450\n",
       "5   -1.6374\n",
       "dtype: float64"
      ]
     },
     "execution_count": 13,
     "metadata": {},
     "output_type": "execute_result"
    }
   ],
   "source": [
    "SSE"
   ]
  },
  {
   "cell_type": "code",
   "execution_count": 15,
   "metadata": {},
   "outputs": [
    {
     "data": {
      "text/plain": [
       "0     0.719104\n",
       "1     4.117653\n",
       "2     6.061444\n",
       "3    16.376590\n",
       "4     0.119025\n",
       "5     2.681079\n",
       "dtype: float64"
      ]
     },
     "execution_count": 15,
     "metadata": {},
     "output_type": "execute_result"
    }
   ],
   "source": [
    "#Squaring the error\n",
    "SSE**2"
   ]
  },
  {
   "cell_type": "code",
   "execution_count": 19,
   "metadata": {},
   "outputs": [
    {
     "data": {
      "text/html": [
       "<div>\n",
       "<style scoped>\n",
       "    .dataframe tbody tr th:only-of-type {\n",
       "        vertical-align: middle;\n",
       "    }\n",
       "\n",
       "    .dataframe tbody tr th {\n",
       "        vertical-align: top;\n",
       "    }\n",
       "\n",
       "    .dataframe thead th {\n",
       "        text-align: right;\n",
       "    }\n",
       "</style>\n",
       "<table border=\"1\" class=\"dataframe\">\n",
       "  <thead>\n",
       "    <tr style=\"text-align: right;\">\n",
       "      <th></th>\n",
       "      <th>Meal</th>\n",
       "      <th>Tip</th>\n",
       "      <th>ycap</th>\n",
       "      <th>SSE</th>\n",
       "      <th>SSE^2</th>\n",
       "      <th>SSE_2</th>\n",
       "    </tr>\n",
       "  </thead>\n",
       "  <tbody>\n",
       "    <tr>\n",
       "      <td>0</td>\n",
       "      <td>34</td>\n",
       "      <td>5</td>\n",
       "      <td>4.1520</td>\n",
       "      <td>0.8480</td>\n",
       "      <td>0.719104</td>\n",
       "      <td>0.719104</td>\n",
       "    </tr>\n",
       "    <tr>\n",
       "      <td>1</td>\n",
       "      <td>108</td>\n",
       "      <td>17</td>\n",
       "      <td>14.9708</td>\n",
       "      <td>2.0292</td>\n",
       "      <td>4.117653</td>\n",
       "      <td>4.117653</td>\n",
       "    </tr>\n",
       "    <tr>\n",
       "      <td>2</td>\n",
       "      <td>64</td>\n",
       "      <td>11</td>\n",
       "      <td>8.5380</td>\n",
       "      <td>2.4620</td>\n",
       "      <td>6.061444</td>\n",
       "      <td>6.061444</td>\n",
       "    </tr>\n",
       "    <tr>\n",
       "      <td>3</td>\n",
       "      <td>88</td>\n",
       "      <td>8</td>\n",
       "      <td>12.0468</td>\n",
       "      <td>-4.0468</td>\n",
       "      <td>16.376590</td>\n",
       "      <td>16.376590</td>\n",
       "    </tr>\n",
       "    <tr>\n",
       "      <td>4</td>\n",
       "      <td>99</td>\n",
       "      <td>14</td>\n",
       "      <td>13.6550</td>\n",
       "      <td>0.3450</td>\n",
       "      <td>0.119025</td>\n",
       "      <td>0.119025</td>\n",
       "    </tr>\n",
       "    <tr>\n",
       "      <td>5</td>\n",
       "      <td>51</td>\n",
       "      <td>5</td>\n",
       "      <td>6.6374</td>\n",
       "      <td>-1.6374</td>\n",
       "      <td>2.681079</td>\n",
       "      <td>2.681079</td>\n",
       "    </tr>\n",
       "  </tbody>\n",
       "</table>\n",
       "</div>"
      ],
      "text/plain": [
       "   Meal  Tip     ycap     SSE      SSE^2      SSE_2\n",
       "0    34    5   4.1520  0.8480   0.719104   0.719104\n",
       "1   108   17  14.9708  2.0292   4.117653   4.117653\n",
       "2    64   11   8.5380  2.4620   6.061444   6.061444\n",
       "3    88    8  12.0468 -4.0468  16.376590  16.376590\n",
       "4    99   14  13.6550  0.3450   0.119025   0.119025\n",
       "5    51    5   6.6374 -1.6374   2.681079   2.681079"
      ]
     },
     "execution_count": 19,
     "metadata": {},
     "output_type": "execute_result"
    }
   ],
   "source": [
    "# We will now include the above columns in our data set\n",
    "Meal_df['SSE']= SSE\n",
    "Meal_df['SSE_2'] = SSE**2\n",
    "Meal_df"
   ]
  },
  {
   "cell_type": "code",
   "execution_count": 20,
   "metadata": {},
   "outputs": [
    {
     "data": {
      "text/plain": [
       "0     0.719104\n",
       "1     4.117653\n",
       "2     6.061444\n",
       "3    16.376590\n",
       "4     0.119025\n",
       "5     2.681079\n",
       "Name: SSE_2, dtype: float64"
      ]
     },
     "execution_count": 20,
     "metadata": {},
     "output_type": "execute_result"
    }
   ],
   "source": [
    "# Therefore the sum of squared error would be \n",
    "Meal_df.SSE_2"
   ]
  },
  {
   "cell_type": "code",
   "execution_count": null,
   "metadata": {},
   "outputs": [],
   "source": []
  }
 ],
 "metadata": {
  "kernelspec": {
   "display_name": "Python 3",
   "language": "python",
   "name": "python3"
  },
  "language_info": {
   "codemirror_mode": {
    "name": "ipython",
    "version": 3
   },
   "file_extension": ".py",
   "mimetype": "text/x-python",
   "name": "python",
   "nbconvert_exporter": "python",
   "pygments_lexer": "ipython3",
   "version": "3.7.4"
  }
 },
 "nbformat": 4,
 "nbformat_minor": 2
}
